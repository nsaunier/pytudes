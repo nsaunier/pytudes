{
 "cells": [
  {
   "cell_type": "code",
   "execution_count": 9,
   "metadata": {},
   "outputs": [
    {
     "name": "stdout",
     "output_type": "stream",
     "text": [
      "1216\n",
      "1072\n"
     ]
    }
   ],
   "source": [
    "# challenge 1\n",
    "x = 5228833336355848549915459366737982598312959583817455621545976784792489468198365998232722734876612332352376192813552949814275947575774339529811976644361517795586998319242241614813622734255797569571577699238592667287428166398221572885869416419682687759743978434571821267146514338394624525648338739929479912368172669885577319718389278168766844487948761697438722556857882433224393723131298876252626643517236883999115665656935521675772866516185899317132494716723615493476397115627687887665194781746377341468995954554518252916859227397693885254329628812355612487594445522395853551734567498838382248616137969637971369615443599973588326388792893969924855316437952313492551671545714262784738343517166544197194547173515155927244175447296474282154114951181648317875827525814453758846194548872789943372281952995222779173812444186491115426476188672253249744478946863317915136832199132868917891243591195719354721129116229164688256853628339233919671468781913167415624214152793864585332944468428849171876873433621524242289488135675313544498245498637424139153782925723745249728743885493877792648576673196889949568317234125863369187953788611841388353999875519172896329524346527265231767868839696693328273381772726782949166112932954356923757485139367298699922984925977724972944277991686823219295939734313874834861796179591659174726432357533113896212781566659154939419866797488347448551719481632572231632463575591599696388223344219228325134233238538854289437756331848887242423387542214691157226725179683638967415678697625138177633444765126223885478348951332634398291612134852858683942466178329922655822225426534359191696177633167962839847985826676955417426617126288255366123169174674348417932158291334646767637764323226842771523598562429399935789788215958367362467652444854123951972118358417629679454978687337137675495295768451719631999398617828287671937584998697959425845883145736323818225129311845997214987663433375689621746665629187252511643969315283316269222835744532431378945137649959158495714472963839397214332815241141327714672141875129895\n",
    "\n",
    "s = str(x)\n",
    "identicalDigits=[]\n",
    "for i in range(len(s)-1):\n",
    "    if s[i]==s[i+1]:\n",
    "        identicalDigits.append(int(s[i]))\n",
    "if s[-1] == s[0]:\n",
    "    identicalDigits.append(int(s[-1]))\n",
    "print(sum(identicalDigits))\n",
    "\n",
    "s = str(x)\n",
    "identicalDigits=[]\n",
    "length = len(s)\n",
    "halfLength = int(length/2)\n",
    "for i in range(length):\n",
    "    if s[i]==s[(i+halfLength)%length]:\n",
    "        identicalDigits.append(int(s[i]))\n",
    "print(sum(identicalDigits))"
   ]
  },
  {
   "cell_type": "code",
   "execution_count": 31,
   "metadata": {},
   "outputs": [
    {
     "name": "stdout",
     "output_type": "stream",
     "text": [
      "41919\n",
      "303.0\n"
     ]
    }
   ],
   "source": [
    "# challenge 2\n",
    "f = open('day2.txt')\n",
    "result = []\n",
    "for l in f:\n",
    "    r = l.strip().split('\\t')\n",
    "    nums = [int(x) for x in r]\n",
    "    result.append(max(nums)-min(nums))\n",
    "print(sum(result))\n",
    "\n",
    "def divisible(nums):\n",
    "    for i in range(len(nums)):\n",
    "        for j in range(i):\n",
    "            x = nums[i]\n",
    "            y = nums[j]\n",
    "            if max(x,y)%min(x,y) == 0:\n",
    "                return max(x,y)/min(x,y)\n",
    "f = open('day2.txt')\n",
    "result = []\n",
    "for l in f:\n",
    "    r = l.strip().split('\\t')\n",
    "    nums = sorted([int(x) for x in r])\n",
    "    result.append(divisible(nums))\n",
    "print(sum(result))"
   ]
  },
  {
   "cell_type": "code",
   "execution_count": 66,
   "metadata": {},
   "outputs": [
    {
     "name": "stdout",
     "output_type": "stream",
     "text": [
      "-151 -279 430\n"
     ]
    }
   ],
   "source": [
    "# challenge 3\n",
    "def move(i,n,x,y,direction):\n",
    "    if i == n:\n",
    "        return x,y\n",
    "    if direction == 'right':\n",
    "        if max(x)-x[-1] < n-i:\n",
    "            ntoadd = max(x)-x[-1]+1\n",
    "            x += range(x[-1]+1, x[-1]+1+ntoadd)\n",
    "            y += [y[-1]]*ntoadd\n",
    "            i += ntoadd\n",
    "            return move(i,n,x,y,'up')\n",
    "        else:\n",
    "            x += range(x[-1]+1, x[-1]+1+n-i)\n",
    "            y += [y[-1]]*(n-i)\n",
    "            return x,y\n",
    "    elif direction == 'up':\n",
    "        if max(y)-y[-1] < n-i:\n",
    "            ntoadd = max(y)-y[-1]+1\n",
    "            y += range(y[-1]+1, y[-1]+1+ntoadd)\n",
    "            x += [x[-1]]*ntoadd\n",
    "            i += ntoadd\n",
    "            return move(i,n,x,y,'left')\n",
    "        else:\n",
    "            y += range(y[-1]+1, y[-1]+1+n-i)\n",
    "            x += [x[-1]]*(n-i)\n",
    "            return x,y\n",
    "    elif direction == 'left':\n",
    "        if x[-1]-min(x) < n-i:\n",
    "            ntoadd = x[-1]-min(x)+1\n",
    "            x += range(x[-1]-1, x[-1]-1-ntoadd, -1)\n",
    "            y += [y[-1]]*ntoadd\n",
    "            i += ntoadd\n",
    "            return move(i,n,x,y,'down')\n",
    "        else:\n",
    "            x += range(x[-1]-1, x[-1]-1-(n-i), -1)\n",
    "            y += [y[-1]]*(n-i)\n",
    "            return x,y\n",
    "    elif direction == 'down':\n",
    "        if y[-1]-max(y) < n-i:\n",
    "            ntoadd = y[-1]-min(y)+1\n",
    "            y += range(y[-1]-1, y[-1]-1-ntoadd, -1)\n",
    "            x += [x[-1]]*ntoadd\n",
    "            i += ntoadd\n",
    "            return move(i,n,x,y,'right')\n",
    "        else:\n",
    "            y += range(y[-1]-1, y[-1]-1-(n-i), -1)\n",
    "            x += [x[-1]]*(n-i)\n",
    "            return x,y\n",
    "\n",
    "n = 312051\n",
    "x = [0]\n",
    "y = [0]\n",
    "x, y = move(1,n,x,y,'right')\n",
    "#from math import abs\n",
    "print(x[-1],y[-1],abs(x[-1])+abs(y[-1]))"
   ]
  },
  {
   "cell_type": "code",
   "execution_count": 39,
   "metadata": {},
   "outputs": [
    {
     "name": "stdout",
     "output_type": "stream",
     "text": [
      "451\n",
      "True\n",
      "223\n"
     ]
    }
   ],
   "source": [
    "# challenge 4\n",
    "passphrases = open('day4.txt').readlines()\n",
    "nValid = 0\n",
    "for passphrase in passphrases:\n",
    "    words = passphrase.strip().split(' ')\n",
    "    if len(words) == len(set(words)):\n",
    "        nValid += 1\n",
    "print(nValid)\n",
    "\n",
    "def anagram1(w1, w2):\n",
    "    if len(w1) == len(w2):\n",
    "        result = True\n",
    "        i=0\n",
    "        while result and i<len(w1):\n",
    "            result = result and (w1[i] ==w2[-1-i])\n",
    "            i += 1\n",
    "        return result\n",
    "    else:\n",
    "        return False\n",
    "\n",
    "def letterCount(w):\n",
    "    counts = {}\n",
    "    for c in w:\n",
    "        if c in counts:\n",
    "            counts[c] += 1\n",
    "        else:\n",
    "            counts[c] = 1\n",
    "    return counts\n",
    "\n",
    "def anagram(w1, w2):\n",
    "    if len(w1) == len(w2):\n",
    "        c1 = letterCount(w1)\n",
    "        c2 = letterCount(w2)\n",
    "        if len(c1) == len(c2):\n",
    "            for k in c1:\n",
    "                if k in c2:\n",
    "                    if not c1[k] == c2[k]:\n",
    "                        return False\n",
    "                else:\n",
    "                    return False\n",
    "            return True\n",
    "        else:\n",
    "            return False\n",
    "    else:\n",
    "        return False\n",
    "print(anagram('blzh', 'hblz'))\n",
    "nValid = 0\n",
    "for passphrase in passphrases:\n",
    "    words = passphrase.strip().split(' ')\n",
    "    if len(words) == len(set(words)):\n",
    "        result = False\n",
    "        i = 0\n",
    "        while not result and i<len(words):\n",
    "            j=0\n",
    "            while not result and j < i:\n",
    "                result = anagram(words[i],words[j])\n",
    "                j+=1\n",
    "            i+=1\n",
    "        if not result:\n",
    "            #print(words)\n",
    "            nValid += 1\n",
    "print(nValid)"
   ]
  },
  {
   "cell_type": "code",
   "execution_count": 7,
   "metadata": {},
   "outputs": [
    {
     "name": "stdout",
     "output_type": "stream",
     "text": [
      "342669 1044\n"
     ]
    }
   ],
   "source": [
    "# challenge 5\n",
    "data = [int(x.strip()) for x in open('day5.txt').readlines()]\n",
    "#data = [0, 3,  0,  1,  -3]\n",
    "i = 0\n",
    "nSteps = 0\n",
    "while i<len(data):\n",
    "    move = data[i]\n",
    "    data[i] += 1\n",
    "    i += move\n",
    "    nSteps += 1\n",
    "print(nSteps, len(data))"
   ]
  },
  {
   "cell_type": "code",
   "execution_count": 10,
   "metadata": {},
   "outputs": [
    {
     "name": "stdout",
     "output_type": "stream",
     "text": [
      "25136209 1044\n"
     ]
    }
   ],
   "source": [
    "# challenge 5-2\n",
    "data = [int(x.strip()) for x in open('day5.txt').readlines()]\n",
    "#data = [0, 3,  0,  1,  -3]\n",
    "i = 0\n",
    "nSteps = 0\n",
    "while i<len(data):\n",
    "    move = data[i]\n",
    "    if move >= 3:\n",
    "        data[i] -= 1\n",
    "    else:\n",
    "        data[i] += 1\n",
    "    i += move\n",
    "    nSteps += 1\n",
    "print(nSteps, len(data))"
   ]
  }
 ],
 "metadata": {
  "kernelspec": {
   "display_name": "Python 3",
   "language": "python",
   "name": "python3"
  },
  "language_info": {
   "codemirror_mode": {
    "name": "ipython",
    "version": 3
   },
   "file_extension": ".py",
   "mimetype": "text/x-python",
   "name": "python",
   "nbconvert_exporter": "python",
   "pygments_lexer": "ipython3",
   "version": "3.5.3"
  }
 },
 "nbformat": 4,
 "nbformat_minor": 2
}
